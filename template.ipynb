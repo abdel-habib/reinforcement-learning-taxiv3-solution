{
 "cells": [
  {
   "cell_type": "markdown",
   "id": "9af60f98-d91f-4bae-80c9-73f7588d80fe",
   "metadata": {},
   "source": [
    "### Template Code Exploration"
   ]
  },
  {
   "cell_type": "markdown",
   "id": "05bc53d0-d743-496a-9f6e-7cefc65dcc89",
   "metadata": {},
   "source": [
    "This notebook is for understanding the starting code provided and debugging code components step by step"
   ]
  },
  {
   "cell_type": "code",
   "execution_count": 14,
   "id": "8d39a9da-0492-4500-a52f-f30499c71354",
   "metadata": {},
   "outputs": [],
   "source": [
    "import gymnasium as gym\n",
    "import random"
   ]
  },
  {
   "cell_type": "code",
   "execution_count": 63,
   "id": "d3f7be49-b888-481b-bd2f-6b8fc3c602cd",
   "metadata": {},
   "outputs": [],
   "source": [
    "def show_state(step, env, obs, reward):\n",
    "    # print(step, env, obs, reward)\n",
    "    ansi_state = env.render()\n",
    "    array_state = list(env.unwrapped.decode(obs))\n",
    "    print(f\"Step {step}: {array_state}, Reward: {reward}\")\n",
    "    print(ansi_state)\n",
    " "
   ]
  },
  {
   "cell_type": "code",
   "execution_count": 64,
   "id": "ba834f8b-6317-484a-9e8e-5c0cff5f555b",
   "metadata": {},
   "outputs": [
    {
     "data": {
      "text/plain": [
       "<TimeLimit<OrderEnforcing<PassiveEnvChecker<TaxiEnv<Taxi-v3>>>>>"
      ]
     },
     "execution_count": 64,
     "metadata": {},
     "output_type": "execute_result"
    }
   ],
   "source": [
    "env = gym.make(\"Taxi-v3\", render_mode=\"ansi\")\n",
    "env"
   ]
  },
  {
   "cell_type": "code",
   "execution_count": 109,
   "id": "876949bc-2833-4e33-adaf-72b06d4a4e71",
   "metadata": {},
   "outputs": [
    {
     "name": "stdout",
     "output_type": "stream",
     "text": [
      "obs: 464\n",
      "info: {'prob': 1.0, 'action_mask': array([0, 1, 1, 0, 0, 0], dtype=int8)}\n",
      "state: 464\n"
     ]
    }
   ],
   "source": [
    "obs, info = env.reset()\n",
    "print(f'obs: {obs}')\n",
    "print(f'info: {info}')\n",
    "\n",
    "print(f\"state: {env.unwrapped.s}\")"
   ]
  },
  {
   "cell_type": "code",
   "execution_count": 80,
   "id": "cad0fa65-141d-475f-9c2d-a05bf26dcb5c",
   "metadata": {},
   "outputs": [
    {
     "name": "stdout",
     "output_type": "stream",
     "text": [
      "Step 0: [3, 3, 3, 1], Reward: 0\n",
      "+---------+\n",
      "|\u001b[34;1mR\u001b[0m: | : :G|\n",
      "| :\u001b[43m \u001b[0m| : : |\n",
      "| : : : : |\n",
      "| | : | : |\n",
      "|Y| : |\u001b[35mB\u001b[0m: |\n",
      "+---------+\n",
      "\n",
      "\n"
     ]
    }
   ],
   "source": [
    "# initial starting state\n",
    "show_state(0, env, obs, 0)\n"
   ]
  },
  {
   "cell_type": "code",
   "execution_count": 106,
   "id": "1fa63769-3c01-455d-9b17-040c8ee82d48",
   "metadata": {},
   "outputs": [
    {
     "name": "stdout",
     "output_type": "stream",
     "text": [
      "Step 1: [3, 1, 0, 3], Reward: -10\n",
      "+---------+\n",
      "|\u001b[34;1mR\u001b[0m: | : :G|\n",
      "| : | : : |\n",
      "| : : : : |\n",
      "| |\u001b[43m \u001b[0m: | : |\n",
      "|Y| : |\u001b[35mB\u001b[0m: |\n",
      "+---------+\n",
      "  (Pickup)\n",
      "\n",
      "Step 2: [3, 1, 0, 3], Reward: -1\n",
      "+---------+\n",
      "|\u001b[34;1mR\u001b[0m: | : :G|\n",
      "| : | : : |\n",
      "| : : : : |\n",
      "| |\u001b[43m \u001b[0m: | : |\n",
      "|Y| : |\u001b[35mB\u001b[0m: |\n",
      "+---------+\n",
      "  (West)\n",
      "\n"
     ]
    }
   ],
   "source": [
    "# random example\n",
    "for i in range(2):\n",
    "\n",
    "   obs, reward, terminated, truncated, info = env.step(\n",
    "\n",
    "       random.choice([0, 1, 2, 3, 4, 5])\n",
    "\n",
    "   )\n",
    "\n",
    "   show_state(i + 1, env, obs, reward)\n"
   ]
  },
  {
   "cell_type": "markdown",
   "id": "ea1fdb78-8b44-4c42-8fe0-8b75a22b9b13",
   "metadata": {},
   "source": [
    "From the documentation, important text kept below"
   ]
  },
  {
   "cell_type": "markdown",
   "id": "7c568fda-ca1d-4d4b-b6b9-a132a58e9bfe",
   "metadata": {},
   "source": [
    "https://gymnasium.farama.org/api/env/"
   ]
  },
  {
   "cell_type": "markdown",
   "id": "4f055584-71a7-4c36-8a2b-6d1d89576ef0",
   "metadata": {},
   "source": [
    "The main API methods that users of this class need to know are:\n",
    "\n",
    "step() - Updates an environment with actions returning the next agent observation, the reward for taking that actions, if the environment has terminated or truncated due to the latest action and information from the environment about the step, i.e. metrics, debug info.\n",
    "\n",
    "reset() - Resets the environment to an initial state, required before calling step. Returns the first agent observation for an episode and information, i.e. metrics, debug info.\n",
    "\n",
    "render() - Renders the environments to help visualise what the agent see, examples modes are “human”, “rgb_array”, “ansi” for text.\n",
    "\n",
    "close() - Closes the environment, important when external software is used, i.e. pygame for rendering, databases\n",
    "\n"
   ]
  },
  {
   "cell_type": "code",
   "execution_count": 36,
   "id": "5dacf0f0-c03d-4d25-9ff8-3b4262232717",
   "metadata": {},
   "outputs": [
    {
     "data": {
      "text/plain": [
       "np.int64(500)"
      ]
     },
     "execution_count": 36,
     "metadata": {},
     "output_type": "execute_result"
    }
   ],
   "source": [
    "env.observation_space.n"
   ]
  },
  {
   "cell_type": "code",
   "execution_count": 37,
   "id": "09144501-0960-4b55-ab47-9591b7810e30",
   "metadata": {},
   "outputs": [
    {
     "data": {
      "text/plain": [
       "np.int64(6)"
      ]
     },
     "execution_count": 37,
     "metadata": {},
     "output_type": "execute_result"
    }
   ],
   "source": [
    "env.action_space.n"
   ]
  },
  {
   "cell_type": "code",
   "execution_count": 57,
   "id": "d4647698-a9da-424b-a701-6c77258db120",
   "metadata": {},
   "outputs": [
    {
     "data": {
      "text/plain": [
       "np.int64(1)"
      ]
     },
     "execution_count": 57,
     "metadata": {},
     "output_type": "execute_result"
    }
   ],
   "source": [
    "env.action_space.sample()"
   ]
  },
  {
   "cell_type": "code",
   "execution_count": null,
   "id": "9193f047-030b-4fd5-8557-451da00ac7e9",
   "metadata": {},
   "outputs": [],
   "source": []
  }
 ],
 "metadata": {
  "kernelspec": {
   "display_name": "Python 3 (ipykernel)",
   "language": "python",
   "name": "python3"
  },
  "language_info": {
   "codemirror_mode": {
    "name": "ipython",
    "version": 3
   },
   "file_extension": ".py",
   "mimetype": "text/x-python",
   "name": "python",
   "nbconvert_exporter": "python",
   "pygments_lexer": "ipython3",
   "version": "3.10.4"
  }
 },
 "nbformat": 4,
 "nbformat_minor": 5
}
