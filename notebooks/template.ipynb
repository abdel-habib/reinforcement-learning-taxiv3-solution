{
 "cells": [
  {
   "cell_type": "markdown",
   "id": "9af60f98-d91f-4bae-80c9-73f7588d80fe",
   "metadata": {},
   "source": [
    "### Template Code Exploration"
   ]
  },
  {
   "cell_type": "markdown",
   "id": "05bc53d0-d743-496a-9f6e-7cefc65dcc89",
   "metadata": {},
   "source": [
    "This notebook is for understanding the starting code provided and debugging code components step by step"
   ]
  },
  {
   "cell_type": "code",
   "execution_count": 110,
   "id": "8d39a9da-0492-4500-a52f-f30499c71354",
   "metadata": {},
   "outputs": [],
   "source": [
    "import gymnasium as gym\n",
    "import random"
   ]
  },
  {
   "cell_type": "code",
   "execution_count": 111,
   "id": "d3f7be49-b888-481b-bd2f-6b8fc3c602cd",
   "metadata": {},
   "outputs": [],
   "source": [
    "def show_state(step, env, obs, reward):\n",
    "    # print(step, env, obs, reward)\n",
    "    ansi_state = env.render()\n",
    "    array_state = list(env.unwrapped.decode(obs))\n",
    "    print(f\"Step {step}: {array_state}, Reward: {reward}\")\n",
    "    print(ansi_state)\n",
    " "
   ]
  },
  {
   "cell_type": "code",
   "execution_count": 112,
   "id": "ba834f8b-6317-484a-9e8e-5c0cff5f555b",
   "metadata": {},
   "outputs": [
    {
     "data": {
      "text/plain": [
       "<TimeLimit<OrderEnforcing<PassiveEnvChecker<TaxiEnv<Taxi-v3>>>>>"
      ]
     },
     "execution_count": 112,
     "metadata": {},
     "output_type": "execute_result"
    }
   ],
   "source": [
    "env = gym.make(\"Taxi-v3\", render_mode=\"ansi\")\n",
    "env"
   ]
  },
  {
   "cell_type": "code",
   "execution_count": 113,
   "id": "876949bc-2833-4e33-adaf-72b06d4a4e71",
   "metadata": {},
   "outputs": [
    {
     "name": "stdout",
     "output_type": "stream",
     "text": [
      "obs: 391\n",
      "info: {'prob': 1.0, 'action_mask': array([1, 1, 0, 1, 0, 0], dtype=int8)}\n",
      "state: 391\n"
     ]
    }
   ],
   "source": [
    "obs, info = env.reset()\n",
    "print(f'obs: {obs}')\n",
    "print(f'info: {info}')\n",
    "\n",
    "print(f\"state: {env.unwrapped.s}\")"
   ]
  },
  {
   "cell_type": "code",
   "execution_count": 114,
   "id": "cad0fa65-141d-475f-9c2d-a05bf26dcb5c",
   "metadata": {},
   "outputs": [
    {
     "name": "stdout",
     "output_type": "stream",
     "text": [
      "Step 0: [3, 4, 2, 3], Reward: 0\n",
      "+---------+\n",
      "|R: | : :G|\n",
      "| : | : : |\n",
      "| : : : : |\n",
      "| | : | :\u001b[43m \u001b[0m|\n",
      "|\u001b[34;1mY\u001b[0m| : |\u001b[35mB\u001b[0m: |\n",
      "+---------+\n",
      "\n",
      "\n"
     ]
    }
   ],
   "source": [
    "# initial starting state\n",
    "show_state(0, env, obs, 0)\n"
   ]
  },
  {
   "cell_type": "code",
   "execution_count": 115,
   "id": "1fa63769-3c01-455d-9b17-040c8ee82d48",
   "metadata": {},
   "outputs": [
    {
     "name": "stdout",
     "output_type": "stream",
     "text": [
      "Step 1: [4, 4, 2, 3], Reward: -1\n",
      "+---------+\n",
      "|R: | : :G|\n",
      "| : | : : |\n",
      "| : : : : |\n",
      "| | : | : |\n",
      "|\u001b[34;1mY\u001b[0m| : |\u001b[35mB\u001b[0m:\u001b[43m \u001b[0m|\n",
      "+---------+\n",
      "  (South)\n",
      "\n",
      "Step 2: [4, 3, 2, 3], Reward: -1\n",
      "+---------+\n",
      "|R: | : :G|\n",
      "| : | : : |\n",
      "| : : : : |\n",
      "| | : | : |\n",
      "|\u001b[34;1mY\u001b[0m| : |\u001b[35m\u001b[43mB\u001b[0m\u001b[0m: |\n",
      "+---------+\n",
      "  (West)\n",
      "\n"
     ]
    }
   ],
   "source": [
    "# random example\n",
    "for i in range(2):\n",
    "\n",
    "   obs, reward, terminated, truncated, info = env.step(\n",
    "\n",
    "       random.choice([0, 1, 2, 3, 4, 5])\n",
    "\n",
    "   )\n",
    "\n",
    "   show_state(i + 1, env, obs, reward)\n"
   ]
  },
  {
   "cell_type": "markdown",
   "id": "ea1fdb78-8b44-4c42-8fe0-8b75a22b9b13",
   "metadata": {},
   "source": [
    "From the documentation, important text kept below"
   ]
  },
  {
   "cell_type": "markdown",
   "id": "7c568fda-ca1d-4d4b-b6b9-a132a58e9bfe",
   "metadata": {},
   "source": [
    "https://gymnasium.farama.org/api/env/"
   ]
  },
  {
   "cell_type": "markdown",
   "id": "4f055584-71a7-4c36-8a2b-6d1d89576ef0",
   "metadata": {},
   "source": [
    "The main API methods that users of this class need to know are:\n",
    "\n",
    "step() - Updates an environment with actions returning the next agent observation, the reward for taking that actions, if the environment has terminated or truncated due to the latest action and information from the environment about the step, i.e. metrics, debug info.\n",
    "\n",
    "reset() - Resets the environment to an initial state, required before calling step. Returns the first agent observation for an episode and information, i.e. metrics, debug info.\n",
    "\n",
    "render() - Renders the environments to help visualise what the agent see, examples modes are “human”, “rgb_array”, “ansi” for text.\n",
    "\n",
    "close() - Closes the environment, important when external software is used, i.e. pygame for rendering, databases\n",
    "\n"
   ]
  },
  {
   "cell_type": "code",
   "execution_count": 116,
   "id": "5dacf0f0-c03d-4d25-9ff8-3b4262232717",
   "metadata": {},
   "outputs": [
    {
     "data": {
      "text/plain": [
       "np.int64(500)"
      ]
     },
     "execution_count": 116,
     "metadata": {},
     "output_type": "execute_result"
    }
   ],
   "source": [
    "env.observation_space.n"
   ]
  },
  {
   "cell_type": "code",
   "execution_count": 117,
   "id": "09144501-0960-4b55-ab47-9591b7810e30",
   "metadata": {},
   "outputs": [
    {
     "data": {
      "text/plain": [
       "np.int64(6)"
      ]
     },
     "execution_count": 117,
     "metadata": {},
     "output_type": "execute_result"
    }
   ],
   "source": [
    "env.action_space.n"
   ]
  },
  {
   "cell_type": "code",
   "execution_count": 118,
   "id": "d4647698-a9da-424b-a701-6c77258db120",
   "metadata": {},
   "outputs": [
    {
     "data": {
      "text/plain": [
       "np.int64(0)"
      ]
     },
     "execution_count": 118,
     "metadata": {},
     "output_type": "execute_result"
    }
   ],
   "source": [
    "env.action_space.sample()"
   ]
  },
  {
   "cell_type": "code",
   "execution_count": 120,
   "id": "9193f047-030b-4fd5-8557-451da00ac7e9",
   "metadata": {},
   "outputs": [
    {
     "name": "stdout",
     "output_type": "stream",
     "text": [
      "Max Steps:  200\n"
     ]
    }
   ],
   "source": [
    "# Total epochs per episode is 200 before it returns truncated=True\n",
    "print(\"Max Steps: \", env.spec.max_episode_steps)"
   ]
  },
  {
   "cell_type": "code",
   "execution_count": null,
   "id": "10c374c0-8a5e-4018-a397-a333f394fc8f",
   "metadata": {},
   "outputs": [],
   "source": []
  }
 ],
 "metadata": {
  "kernelspec": {
   "display_name": "Python 3 (ipykernel)",
   "language": "python",
   "name": "python3"
  },
  "language_info": {
   "codemirror_mode": {
    "name": "ipython",
    "version": 3
   },
   "file_extension": ".py",
   "mimetype": "text/x-python",
   "name": "python",
   "nbconvert_exporter": "python",
   "pygments_lexer": "ipython3",
   "version": "3.10.4"
  }
 },
 "nbformat": 4,
 "nbformat_minor": 5
}
